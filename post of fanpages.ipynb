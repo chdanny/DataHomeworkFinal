{
 "cells": [
  {
   "cell_type": "code",
   "execution_count": 2,
   "metadata": {
    "collapsed": false
   },
   "outputs": [
    {
     "name": "stdout",
     "output_type": "stream",
     "text": [
      "粉絲頁1396247760934332的全部的post :\n",
      "1120\n"
     ]
    }
   ],
   "source": [
    "import pyes\n",
    "\n",
    "conn = pyes.es.ES(server=[('http', 'localhost', 9200)])\n",
    "bq = pyes.query.BoolQuery() \n",
    "# BoolQuery本身是一個Query的組合，可以使用add_must(), add_must_not(), add_should()來使用。\n",
    "\n",
    "bq.add_must(pyes.query.TermQuery(field=\"fid\", value='139624776093433')) #(field, term)\n",
    "#bq.add_must_not(pyes.query.TermQuery(\"name\",\"john\")) #(field, term)\n",
    "result = conn.search(query=bq , indices='facebook_nested' , doc_types='post')\n",
    "\n",
    "   \n",
    "print \"粉絲頁1396247760934332的全部的post :\"\n",
    "print len(result)     \n"
   ]
  },
  {
   "cell_type": "code",
   "execution_count": 3,
   "metadata": {
    "collapsed": false
   },
   "outputs": [
    {
     "name": "stdout",
     "output_type": "stream",
     "text": [
      "粉絲頁1448357445384692的全部的post :\n",
      "969\n"
     ]
    }
   ],
   "source": [
    "import pyes\n",
    "\n",
    "conn = pyes.es.ES(server=[('http', 'localhost', 9200)])\n",
    "bq = pyes.query.BoolQuery() \n",
    "# BoolQuery本身是一個Query的組合，可以使用add_must(), add_must_not(), add_should()來使用。\n",
    "\n",
    "bq.add_must(pyes.query.TermQuery(field=\"fid\", value='1448357445384692')) #(field, term)\n",
    "#bq.add_must_not(pyes.query.TermQuery(\"name\",\"john\")) #(field, term)\n",
    "result = conn.search(query=bq , indices='facebook_nested' , doc_types='post')\n",
    "\n",
    "   \n",
    "print \"粉絲頁1448357445384692的全部的post :\"\n",
    "print len(result)     \n"
   ]
  },
  {
   "cell_type": "code",
   "execution_count": 4,
   "metadata": {
    "collapsed": false
   },
   "outputs": [
    {
     "name": "stdout",
     "output_type": "stream",
     "text": [
      "粉絲頁100489613340306的全部的post :\n",
      "4238\n"
     ]
    }
   ],
   "source": [
    "import pyes\n",
    "\n",
    "conn = pyes.es.ES(server=[('http', 'localhost', 9200)])\n",
    "bq = pyes.query.BoolQuery() \n",
    "# BoolQuery本身是一個Query的組合，可以使用add_must(), add_must_not(), add_should()來使用。\n",
    "\n",
    "bq.add_must(pyes.query.TermQuery(field=\"fid\", value='100489613340306')) #(field, term)\n",
    "#bq.add_must_not(pyes.query.TermQuery(\"name\",\"john\")) #(field, term)\n",
    "result = conn.search(query=bq , indices='facebook_nested' , doc_types='post')\n",
    "\n",
    "   \n",
    "print \"粉絲頁100489613340306的全部的post :\"\n",
    "print len(result)     \n"
   ]
  }
 ],
 "metadata": {
  "anaconda-cloud": {},
  "kernelspec": {
   "display_name": "Python [default]",
   "language": "python",
   "name": "python2"
  },
  "language_info": {
   "codemirror_mode": {
    "name": "ipython",
    "version": 2
   },
   "file_extension": ".py",
   "mimetype": "text/x-python",
   "name": "python",
   "nbconvert_exporter": "python",
   "pygments_lexer": "ipython2",
   "version": "2.7.12"
  }
 },
 "nbformat": 4,
 "nbformat_minor": 1
}
