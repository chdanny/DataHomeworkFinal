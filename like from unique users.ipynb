{
 "cells": [
  {
   "cell_type": "code",
   "execution_count": 10,
   "metadata": {
    "collapsed": false
   },
   "outputs": [
    {
     "name": "stdout",
     "output_type": "stream",
     "text": [
      "User 10153114872236568 按了幾個粉絲頁的like :\n",
      "84\n",
      "User 1532160613744488 按了幾個粉絲頁的like :\n",
      "67\n",
      "User 819696671449247 按了幾個粉絲頁的like :\n",
      "8\n"
     ]
    }
   ],
   "source": [
    "import pyes\n",
    "\n",
    "user1 = '10153114872236568'\n",
    "user2 = '1532160613744488'\n",
    "user3 = '819696671449247'\n",
    "\n",
    "conn = pyes.es.ES(server=[('http', 'localhost', 9200)])\n",
    "\n",
    "def NumberOfLike(uid):\n",
    "\n",
    "  bq = pyes.query.BoolQuery() \n",
    "  # BoolQuery本身是一個Query的組合，可以使用add_must(), add_must_not(), add_should()來使用。\n",
    "  bq.add_must(pyes.query.TermQuery(field=\"uid\", value = uid)) #(field, term)\n",
    "  #bq.add_must_not(pyes.query.TermQuery(\"name\",\"john\")) #(field, term)\n",
    "  result = conn.search(query=bq , indices='facebook_nested' , doc_types='like')\n",
    "  print 'User '+ uid +' 按了幾個粉絲頁的like :'\n",
    "  print len(result)     \n",
    "\n",
    "\n",
    "NumberOfLike(user1)\n",
    "NumberOfLike(user2)\n",
    "NumberOfLike(user3)\n"
   ]
  }
 ],
 "metadata": {
  "kernelspec": {
   "display_name": "Python [default]",
   "language": "python",
   "name": "python2"
  },
  "language_info": {
   "codemirror_mode": {
    "name": "ipython",
    "version": 2
   },
   "file_extension": ".py",
   "mimetype": "text/x-python",
   "name": "python",
   "nbconvert_exporter": "python",
   "pygments_lexer": "ipython2",
   "version": "2.7.12"
  }
 },
 "nbformat": 4,
 "nbformat_minor": 1
}
