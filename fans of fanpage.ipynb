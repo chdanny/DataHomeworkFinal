{
 "cells": [
  {
   "cell_type": "code",
   "execution_count": 3,
   "metadata": {
    "collapsed": false
   },
   "outputs": [
    {
     "name": "stdout",
     "output_type": "stream",
     "text": [
      "139624776093433粉絲頁, fans = 580765\n",
      "1448357445384692粉絲頁, fans = 60673\n",
      "100489613340306粉絲頁, fans = 1025150\n"
     ]
    }
   ],
   "source": [
    "import pyes\n",
    "import json\n",
    "\n",
    "def pp(o): \n",
    "    print json.dumps(o, indent=1)\n",
    "\n",
    "#host = '114.32.24.166:9200'\n",
    "host = '127.0.0.1:9200'\n",
    "\n",
    "fid1 = '139624776093433'\n",
    "fid2 = '1448357445384692'\n",
    "fid3 = '100489613340306'\n",
    "\n",
    "def fansNumber(fid):\n",
    "    conn = pyes.es.ES(host)\n",
    "    tq = pyes.query.TermQuery(field=\"fid\", value=fid)\n",
    "    tagg = pyes.aggs.TermsAgg('likes_count', field= 'likes_count')\n",
    "    qsearch = pyes.query.Search(tq) \n",
    "    qsearch.agg.add(tagg) \n",
    "    result = conn.search(query=qsearch , indices='facebook_nested' , doc_types='fanpage')\n",
    "    \n",
    "    for fanNum in result.aggs[\"likes_count\"][\"buckets\"]:\n",
    "        print fid +'粉絲頁' + ', ' + 'fans = ' + str(fanNum[\"key\"])\n",
    "    #print json.dumps(result.aggs,indent=2) \n",
    "fansNumber(fid1)\n",
    "fansNumber(fid2)\n",
    "fansNumber(fid3)\n"
   ]
  }
 ],
 "metadata": {
  "anaconda-cloud": {},
  "kernelspec": {
   "display_name": "Python [default]",
   "language": "python",
   "name": "python2"
  },
  "language_info": {
   "codemirror_mode": {
    "name": "ipython",
    "version": 2
   },
   "file_extension": ".py",
   "mimetype": "text/x-python",
   "name": "python",
   "nbconvert_exporter": "python",
   "pygments_lexer": "ipython2",
   "version": "2.7.12"
  }
 },
 "nbformat": 4,
 "nbformat_minor": 1
}
